{
 "cells": [
  {
   "cell_type": "code",
   "execution_count": 1,
   "metadata": {},
   "outputs": [
    {
     "name": "stderr",
     "output_type": "stream",
     "text": [
      "C:\\ProgramData\\Anaconda3\\lib\\site-packages\\sklearn\\externals\\joblib\\__init__.py:15: FutureWarning: sklearn.externals.joblib is deprecated in 0.21 and will be removed in 0.23. Please import this functionality directly from joblib, which can be installed with: pip install joblib. If this warning is raised when loading pickled models, you may need to re-serialize those models with scikit-learn 0.21+.\n",
      "  warnings.warn(msg, category=FutureWarning)\n"
     ]
    }
   ],
   "source": [
    "# Dependencies\n",
    "from flask import Flask, request, jsonify\n",
    "from flask_cors import CORS\n",
    "from sklearn.externals import joblib\n",
    "import traceback\n",
    "import pandas as pd\n",
    "import os\n"
   ]
  },
  {
   "cell_type": "code",
   "execution_count": null,
   "metadata": {},
   "outputs": [
    {
     "name": "stdout",
     "output_type": "stream",
     "text": [
      "Model loaded\n",
      "Model columns loaded\n",
      " * Serving Flask app \"__main__\" (lazy loading)\n",
      " * Environment: production\n",
      "   WARNING: This is a development server. Do not use it in a production deployment.\n",
      "   Use a production WSGI server instead.\n",
      " * Debug mode: on\n"
     ]
    },
    {
     "name": "stderr",
     "output_type": "stream",
     "text": [
      " * Running on http://127.0.0.1:8080/ (Press CTRL+C to quit)\n",
      "127.0.0.1 - - [23/Oct/2020 11:16:29] \"\u001b[33mPOST //predict HTTP/1.1\u001b[0m\" 404 -\n",
      "127.0.0.1 - - [23/Oct/2020 11:16:36] \"\u001b[37mPOST /predict HTTP/1.1\u001b[0m\" 200 -\n",
      "127.0.0.1 - - [23/Oct/2020 11:16:53] \"\u001b[37mPOST /predict HTTP/1.1\u001b[0m\" 200 -\n"
     ]
    },
    {
     "name": "stdout",
     "output_type": "stream",
     "text": [
      "   interest_rate  unpaid_principal_bal  loan_term  loan_to_value  \\\n",
      "0              1                     0          1              1   \n",
      "\n",
      "   number_of_borrowers  debt_to_income_ratio  borrower_credit_score  \\\n",
      "0                    1                     1                      1   \n",
      "\n",
      "   insurance_percent  co-borrower_credit_score  insurance_type  \n",
      "0                  1                         1               1  \n"
     ]
    },
    {
     "name": "stderr",
     "output_type": "stream",
     "text": [
      "127.0.0.1 - - [23/Oct/2020 11:16:55] \"\u001b[37mPOST /predict HTTP/1.1\u001b[0m\" 200 -\n"
     ]
    },
    {
     "name": "stdout",
     "output_type": "stream",
     "text": [
      "   interest_rate  unpaid_principal_bal  loan_term  loan_to_value  \\\n",
      "0              1                     0          1              1   \n",
      "\n",
      "   number_of_borrowers  debt_to_income_ratio  borrower_credit_score  \\\n",
      "0                    1                     1                      1   \n",
      "\n",
      "   insurance_percent  co-borrower_credit_score  insurance_type  \n",
      "0                  1                         1               1  \n"
     ]
    }
   ],
   "source": [
    "\n",
    "# Your API definition\n",
    "app = Flask(__name__)\n",
    "\n",
    "@app.route('/predict', methods=['POST'])\n",
    "def predict():\n",
    "    if classifier:\n",
    "        try:\n",
    "            data = request.get_json(force=True)\n",
    "            data.update((x, [y]) for x, y in data.items())\n",
    "            data_df = pd.DataFrame.from_dict(data)\n",
    "            #json_ = request.json\n",
    "            #print(json_)\n",
    "            #query = pd.get_dummies(pd.DataFrame(json_))\n",
    "            #query = query.reindex(columns=model_columns, fill_value=0)\n",
    "            print(data_df)\n",
    "            prediction = classifier.predict(data_df)\n",
    "            \n",
    "            confidence = classifier.predict_proba(data_df)\n",
    "            return jsonify({'prediction': str(prediction[0]), 'confidence': [(round((confidence[0][0]*100),3)),(round((confidence[0][1]*100),3))]})\n",
    "           \n",
    "        except:\n",
    "\n",
    "            return jsonify({'trace': traceback.format_exc()})\n",
    "    else:\n",
    "        print ('Train the model first')\n",
    "        return ('No model here to use')\n",
    "\n",
    "if __name__ == '__main__':\n",
    "    classifier = joblib.load(\"classification_model.pkl\") # Load \"model.pkl\"\n",
    "    print ('Model loaded')\n",
    "    model_columns = joblib.load(\"model_columns.pkl\") # Load \"model_columns.pkl\"\n",
    "    print ('Model columns loaded')\n",
    "    app.run(port = 5000, debug=True)\n",
    "    #app.run(host='127.0.0.1', use_reloader=False,port=8080, debug=True)\n"
   ]
  },
  {
   "cell_type": "code",
   "execution_count": null,
   "metadata": {},
   "outputs": [],
   "source": []
  },
  {
   "cell_type": "code",
   "execution_count": null,
   "metadata": {},
   "outputs": [],
   "source": []
  }
 ],
 "metadata": {
  "kernelspec": {
   "display_name": "Python 3",
   "language": "python",
   "name": "python3"
  },
  "language_info": {
   "codemirror_mode": {
    "name": "ipython",
    "version": 3
   },
   "file_extension": ".py",
   "mimetype": "text/x-python",
   "name": "python",
   "nbconvert_exporter": "python",
   "pygments_lexer": "ipython3",
   "version": "3.7.4"
  }
 },
 "nbformat": 4,
 "nbformat_minor": 2
}
