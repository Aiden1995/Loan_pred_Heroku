{
 "cells": [
  {
   "cell_type": "code",
   "execution_count": 11,
   "metadata": {},
   "outputs": [
    {
     "name": "stdout",
     "output_type": "stream",
     "text": [
      "Model loaded\n",
      "Model columns loaded\n"
     ]
    }
   ],
   "source": [
    "# Dependencies\n",
    "from flask import Flask, request, jsonify\n",
    "from flask_cors import CORS\n",
    "import traceback\n",
    "import pandas as pd\n",
    "import joblib\n",
    "import os\n",
    "classifier = joblib.load('classification_model.pkl') # Load \"model.pkl\"\n",
    "print ('Model loaded')\n",
    "model_columns = joblib.load('model_columns.pkl') # Load \"model_columns.pkl\"\n",
    "print ('Model columns loaded')\n"
   ]
  },
  {
   "cell_type": "code",
   "execution_count": null,
   "metadata": {},
   "outputs": [
    {
     "name": "stdout",
     "output_type": "stream",
     "text": [
      " * Serving Flask app \"__main__\" (lazy loading)\n",
      " * Environment: production\n",
      "   WARNING: This is a development server. Do not use it in a production deployment.\n",
      "   Use a production WSGI server instead.\n",
      " * Debug mode: on\n"
     ]
    },
    {
     "name": "stderr",
     "output_type": "stream",
     "text": [
      " * Running on http://127.0.0.1:5000/ (Press CTRL+C to quit)\n",
      "127.0.0.1 - - [23/Oct/2020 11:50:27] \"\u001b[37mPOST / HTTP/1.1\u001b[0m\" 200 -\n"
     ]
    },
    {
     "name": "stdout",
     "output_type": "stream",
     "text": [
      "   interest_rate  unpaid_principal_bal  loan_term  loan_to_value  \\\n",
      "0              1                     0          1              1   \n",
      "\n",
      "   number_of_borrowers  debt_to_income_ratio  borrower_credit_score  \\\n",
      "0                    1                     1                      1   \n",
      "\n",
      "   insurance_percent  co-borrower_credit_score  insurance_type  \n",
      "0                  1                         1               1  \n"
     ]
    }
   ],
   "source": [
    "\n",
    "# Your API definition\n",
    "app = Flask(__name__)\n",
    "\n",
    "@app.route('/', methods=['POST'])\n",
    "def predict():\n",
    "    if classifier:\n",
    "        try:\n",
    "            data = request.get_json(force=True)\n",
    "            data.update((x, [y]) for x, y in data.items())\n",
    "            data_df = pd.DataFrame.from_dict(data)\n",
    "            #json_ = request.json\n",
    "            #print(json_)\n",
    "            #query = pd.get_dummies(pd.DataFrame(json_))\n",
    "            data_df = data_df.reindex(columns=model_columns, fill_value=0)\n",
    "            print(data_df)\n",
    "            prediction = classifier.predict(data_df)\n",
    "            \n",
    "            confidence = classifier.predict_proba(data_df)\n",
    "            return jsonify({'prediction': str(prediction[0]), 'confidence': [(round((confidence[0][0]*100),3)),(round((confidence[0][1]*100),3))]})\n",
    "           \n",
    "        except:\n",
    "\n",
    "            return jsonify({'trace': traceback.format_exc()})\n",
    "    else:\n",
    "        print ('Train the model first')\n",
    "        return ('No model here to use')\n",
    "\n",
    "if __name__ == '__main__':\n",
    "    app.run(port = 5000,use_reloader=False, debug=True)\n",
    "    #app.run(host='127.0.0.1', use_reloader=False,port=8080, debug=True)\n"
   ]
  },
  {
   "cell_type": "code",
   "execution_count": null,
   "metadata": {},
   "outputs": [],
   "source": []
  },
  {
   "cell_type": "code",
   "execution_count": null,
   "metadata": {},
   "outputs": [],
   "source": []
  }
 ],
 "metadata": {
  "kernelspec": {
   "display_name": "Python 3",
   "language": "python",
   "name": "python3"
  },
  "language_info": {
   "codemirror_mode": {
    "name": "ipython",
    "version": 3
   },
   "file_extension": ".py",
   "mimetype": "text/x-python",
   "name": "python",
   "nbconvert_exporter": "python",
   "pygments_lexer": "ipython3",
   "version": "3.7.4"
  }
 },
 "nbformat": 4,
 "nbformat_minor": 2
}
