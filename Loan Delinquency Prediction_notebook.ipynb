{
 "cells": [
  {
   "cell_type": "markdown",
   "metadata": {},
   "source": [
    "# Loan Delinquency Prediction"
   ]
  },
  {
   "cell_type": "markdown",
   "metadata": {},
   "source": [
    "### Problem Statement: \n",
    "\n",
    "#### Loan default prediction is one of the most critical and crucial problem faced by financial institutions and organizations as it has a noteworthy effect on the profitability of these institutions. In recent years, there is a tremendous increase in the volume of non – performing loans which results in a jeopardizing effect on the growth of these institutions.\n",
    "\n",
    "####    Therefore, to maintain a healthy portfolio, the banks put stringent monitoring and evaluation measures in place to ensure timely repayment of loans by borrowers. Despite these measures, a major proportion of loans become delinquent. Delinquency occurs when a borrower misses a payment against his/her loan.\n",
    "\n",
    "####       Given the information like mortgage details, borrowers related details and payment details, our objective is to identify the delinquency status of loans for the next month given the delinquency status for the previous 12 months (in number of months)"
   ]
  },
  {
   "cell_type": "markdown",
   "metadata": {},
   "source": [
    "### Solution: \n",
    "#### Notebook contains various machine learning models like K nearest neighbour, Logistic Regression ,Random Forest, Naive Bayes, XGBoost, AdaBoost, GradientBoost, Decision Tree which are trained on the training data which predicts the delinquency status of loans for the next month given the delinquency status for the previous 12 months.  Out of which  the f1-score of the Random Forest model out performs all other models so we are using the Random Forest classifier with Grid Searchoptimized hyper parameters using for the identification of the delinquency status. At the end we are writing the predicted values into a csv file."
   ]
  },
  {
   "cell_type": "markdown",
   "metadata": {},
   "source": [
    "## Importing the Libraries"
   ]
  },
  {
   "cell_type": "code",
   "execution_count": 137,
   "metadata": {},
   "outputs": [],
   "source": [
    "import numpy as np\n",
    "import pandas as pd\n",
    "import matplotlib.pyplot as plt\n",
    "#import seaborn as sns\n",
    "#import missingno as msno\n",
    "from sklearn import model_selection\n",
    "from sklearn import preprocessing\n",
    "from sklearn.metrics import confusion_matrix,f1_score\n",
    "import xgboost as xgb\n",
    "from sklearn.tree import DecisionTreeClassifier\n",
    "from sklearn.ensemble import RandomForestClassifier,AdaBoostClassifier,GradientBoostingClassifier\n",
    "from sklearn.model_selection import GridSearchCV"
   ]
  },
  {
   "cell_type": "markdown",
   "metadata": {},
   "source": [
    "#### Setting Basic Configuration for Visualisation"
   ]
  },
  {
   "cell_type": "markdown",
   "metadata": {},
   "source": [
    "%matplotlib inline\n",
    "\n",
    "plt.rcParams['figure.figsize'] = [20.0, 7.0]\n",
    "plt.rcParams.update({'font.size': 22,})\n",
    "\n",
    "sns.set_palette('viridis')\n",
    "sns.set_style('white')\n",
    "sns.set_context('talk', font_scale=0.8)"
   ]
  },
  {
   "cell_type": "markdown",
   "metadata": {},
   "source": [
    "### Loading the DataSet"
   ]
  },
  {
   "cell_type": "code",
   "execution_count": 138,
   "metadata": {},
   "outputs": [],
   "source": [
    "data_train= pd.read_csv('train.csv')\n",
    "data_test=pd.read_csv('test.csv')\n",
    "data_test_new=pd.read_csv('test.csv')"
   ]
  },
  {
   "cell_type": "markdown",
   "metadata": {},
   "source": [
    "### Getting Information About the DataSet"
   ]
  },
  {
   "cell_type": "code",
   "execution_count": 139,
   "metadata": {},
   "outputs": [
    {
     "data": {
      "text/plain": [
       "Index(['loan_id', 'source', 'financial_institution', 'interest_rate',\n",
       "       'unpaid_principal_bal', 'loan_term', 'origination_date',\n",
       "       'first_payment_date', 'loan_to_value', 'number_of_borrowers',\n",
       "       'debt_to_income_ratio', 'borrower_credit_score', 'loan_purpose',\n",
       "       'insurance_percent', 'co-borrower_credit_score', 'insurance_type'],\n",
       "      dtype='object')"
      ]
     },
     "execution_count": 139,
     "metadata": {},
     "output_type": "execute_result"
    }
   ],
   "source": [
    "data_train.columns\n",
    "data_test.columns"
   ]
  },
  {
   "cell_type": "code",
   "execution_count": 140,
   "metadata": {},
   "outputs": [
    {
     "name": "stdout",
     "output_type": "stream",
     "text": [
      "0    115422\n",
      "1       636\n",
      "Name: m13, dtype: int64\n"
     ]
    }
   ],
   "source": [
    "#train_data=data.drop('loan_id','financial_institution','origination_date','first_payment_date',)\n",
    "print(data_train.m13.value_counts())\n"
   ]
  },
  {
   "cell_type": "code",
   "execution_count": 141,
   "metadata": {},
   "outputs": [],
   "source": [
    "data_train=data_train.drop(['loan_id','financial_institution','origination_date',\n",
    "       'first_payment_date','source','loan_purpose'], axis=1)  #Dropping ir-relevant columns"
   ]
  },
  {
   "cell_type": "code",
   "execution_count": 142,
   "metadata": {},
   "outputs": [],
   "source": [
    "columns_data=data_train.columns #Checking the columns of training dataset"
   ]
  },
  {
   "cell_type": "code",
   "execution_count": 143,
   "metadata": {},
   "outputs": [
    {
     "name": "stdout",
     "output_type": "stream",
     "text": [
      "<class 'pandas.core.frame.DataFrame'>\n",
      "RangeIndex: 116058 entries, 0 to 116057\n",
      "Data columns (total 11 columns):\n",
      " #   Column                    Non-Null Count   Dtype  \n",
      "---  ------                    --------------   -----  \n",
      " 0   interest_rate             116058 non-null  float64\n",
      " 1   unpaid_principal_bal      116058 non-null  int64  \n",
      " 2   loan_term                 116058 non-null  int64  \n",
      " 3   loan_to_value             116058 non-null  int64  \n",
      " 4   number_of_borrowers       116058 non-null  int64  \n",
      " 5   debt_to_income_ratio      116058 non-null  int64  \n",
      " 6   borrower_credit_score     116058 non-null  int64  \n",
      " 7   insurance_percent         116058 non-null  int64  \n",
      " 8   co-borrower_credit_score  116058 non-null  int64  \n",
      " 9   insurance_type            116058 non-null  int64  \n",
      " 10  m13                       116058 non-null  int64  \n",
      "dtypes: float64(1), int64(10)\n",
      "memory usage: 9.7 MB\n"
     ]
    }
   ],
   "source": [
    "data_train.info()     #Info. about the training data"
   ]
  },
  {
   "cell_type": "markdown",
   "metadata": {},
   "source": [
    "## Data Pre-Processing"
   ]
  },
  {
   "cell_type": "markdown",
   "metadata": {},
   "source": [
    "#### Encoding the Categorical Data"
   ]
  },
  {
   "cell_type": "code",
   "execution_count": 144,
   "metadata": {},
   "outputs": [
    {
     "name": "stdout",
     "output_type": "stream",
     "text": [
      "<class 'pandas.core.frame.DataFrame'>\n",
      "RangeIndex: 116058 entries, 0 to 116057\n",
      "Data columns (total 11 columns):\n",
      " #   Column                    Non-Null Count   Dtype  \n",
      "---  ------                    --------------   -----  \n",
      " 0   interest_rate             116058 non-null  float64\n",
      " 1   unpaid_principal_bal      116058 non-null  int64  \n",
      " 2   loan_term                 116058 non-null  int64  \n",
      " 3   loan_to_value             116058 non-null  int64  \n",
      " 4   number_of_borrowers       116058 non-null  int64  \n",
      " 5   debt_to_income_ratio      116058 non-null  int64  \n",
      " 6   borrower_credit_score     116058 non-null  int64  \n",
      " 7   insurance_percent         116058 non-null  int64  \n",
      " 8   co-borrower_credit_score  116058 non-null  int64  \n",
      " 9   insurance_type            116058 non-null  int64  \n",
      " 10  m13                       116058 non-null  int64  \n",
      "dtypes: float64(1), int64(10)\n",
      "memory usage: 9.7 MB\n",
      "None\n",
      "       interest_rate  unpaid_principal_bal      loan_term  loan_to_value  \\\n",
      "count  116058.000000          1.160580e+05  116058.000000  116058.000000   \n",
      "mean        3.868961          2.082262e+05     292.280997      67.431939   \n",
      "std         0.461020          1.146851e+05      89.762415      17.291719   \n",
      "min         2.250000          1.100000e+04      60.000000       6.000000   \n",
      "25%         3.500000          1.200000e+05     180.000000      57.000000   \n",
      "50%         3.875000          1.830000e+05     360.000000      72.000000   \n",
      "75%         4.125000          2.780000e+05     360.000000      80.000000   \n",
      "max         6.750000          1.200000e+06     360.000000      97.000000   \n",
      "\n",
      "       number_of_borrowers  debt_to_income_ratio  borrower_credit_score  \\\n",
      "count        116058.000000         116058.000000          116058.000000   \n",
      "mean              1.593186             30.742293             769.926778   \n",
      "std               0.491242              9.730798              42.210706   \n",
      "min               1.000000              1.000000               0.000000   \n",
      "25%               1.000000             23.000000             751.000000   \n",
      "50%               2.000000             31.000000             782.000000   \n",
      "75%               2.000000             39.000000             800.000000   \n",
      "max               2.000000             64.000000             840.000000   \n",
      "\n",
      "       insurance_percent  co-borrower_credit_score  insurance_type  \\\n",
      "count      116058.000000             116058.000000   116058.000000   \n",
      "mean            2.786288                459.611565        0.003257   \n",
      "std             8.096464                381.946926        0.056977   \n",
      "min             0.000000                  0.000000        0.000000   \n",
      "25%             0.000000                  0.000000        0.000000   \n",
      "50%             0.000000                740.000000        0.000000   \n",
      "75%             0.000000                791.000000        0.000000   \n",
      "max            40.000000                836.000000        1.000000   \n",
      "\n",
      "                 m13  \n",
      "count  116058.000000  \n",
      "mean        0.005480  \n",
      "std         0.073824  \n",
      "min         0.000000  \n",
      "25%         0.000000  \n",
      "50%         0.000000  \n",
      "75%         0.000000  \n",
      "max         1.000000  \n",
      "Index(['interest_rate', 'unpaid_principal_bal', 'loan_term', 'loan_to_value',\n",
      "       'number_of_borrowers', 'debt_to_income_ratio', 'borrower_credit_score',\n",
      "       'insurance_percent', 'co-borrower_credit_score', 'insurance_type',\n",
      "       'm13'],\n",
      "      dtype='object')\n"
     ]
    }
   ],
   "source": [
    "data_train=data_train[['interest_rate', 'unpaid_principal_bal', 'loan_term', 'loan_to_value', 'number_of_borrowers', 'debt_to_income_ratio', 'borrower_credit_score', 'insurance_percent', 'co-borrower_credit_score', 'insurance_type','m13']]\n",
    "columns_data=data_train.columns\n",
    "print(data_train.info())\n",
    "print(data_train.describe())\n",
    "print(columns_data)"
   ]
  },
  {
   "cell_type": "markdown",
   "metadata": {},
   "source": [
    "#### Feature Scaling"
   ]
  },
  {
   "cell_type": "code",
   "execution_count": 145,
   "metadata": {},
   "outputs": [],
   "source": [
    "np_data = data_train.values #returns a numpy array\n",
    "min_max_scaler = preprocessing.MinMaxScaler()\n",
    "x_scaled = min_max_scaler.fit_transform(np_data)\n",
    "data_scaled = pd.DataFrame(x_scaled)\n",
    "df=data_scaled\n",
    "\n",
    "#df\n",
    "#data_scaled #print the scaled_data"
   ]
  },
  {
   "cell_type": "markdown",
   "metadata": {},
   "source": [
    "#### X-Y Split"
   ]
  },
  {
   "cell_type": "code",
   "execution_count": 146,
   "metadata": {},
   "outputs": [],
   "source": [
    "#df"
   ]
  },
  {
   "cell_type": "code",
   "execution_count": 147,
   "metadata": {},
   "outputs": [],
   "source": [
    "y = df.iloc[:,-1:]      #Dependent variabl\n",
    "#df=df.drop([df.columns[-1]],  axis='columns')\n",
    "X = df.iloc[:,0:-1]   #Independent variable\n",
    "#y"
   ]
  },
  {
   "cell_type": "code",
   "execution_count": 148,
   "metadata": {},
   "outputs": [
    {
     "name": "stdout",
     "output_type": "stream",
     "text": [
      "['interest_rate', 'unpaid_principal_bal', 'loan_term', 'loan_to_value', 'number_of_borrowers', 'debt_to_income_ratio', 'borrower_credit_score', 'insurance_percent', 'co-borrower_credit_score', 'insurance_type']\n"
     ]
    }
   ],
   "source": [
    "model_columns = list(columns_data)\n",
    "model_columns.remove('m13')\n",
    "print(model_columns)\n",
    "X.columns=model_columns\n"
   ]
  },
  {
   "cell_type": "code",
   "execution_count": 149,
   "metadata": {},
   "outputs": [
    {
     "data": {
      "text/html": [
       "<div>\n",
       "<style scoped>\n",
       "    .dataframe tbody tr th:only-of-type {\n",
       "        vertical-align: middle;\n",
       "    }\n",
       "\n",
       "    .dataframe tbody tr th {\n",
       "        vertical-align: top;\n",
       "    }\n",
       "\n",
       "    .dataframe thead th {\n",
       "        text-align: right;\n",
       "    }\n",
       "</style>\n",
       "<table border=\"1\" class=\"dataframe\">\n",
       "  <thead>\n",
       "    <tr style=\"text-align: right;\">\n",
       "      <th></th>\n",
       "      <th>interest_rate</th>\n",
       "      <th>unpaid_principal_bal</th>\n",
       "      <th>loan_term</th>\n",
       "      <th>loan_to_value</th>\n",
       "      <th>number_of_borrowers</th>\n",
       "      <th>debt_to_income_ratio</th>\n",
       "      <th>borrower_credit_score</th>\n",
       "      <th>insurance_percent</th>\n",
       "      <th>co-borrower_credit_score</th>\n",
       "      <th>insurance_type</th>\n",
       "    </tr>\n",
       "  </thead>\n",
       "  <tbody>\n",
       "    <tr>\n",
       "      <th>0</th>\n",
       "      <td>0.444444</td>\n",
       "      <td>0.170732</td>\n",
       "      <td>1.0</td>\n",
       "      <td>0.978022</td>\n",
       "      <td>0.0</td>\n",
       "      <td>0.333333</td>\n",
       "      <td>0.826190</td>\n",
       "      <td>0.75</td>\n",
       "      <td>0.000000</td>\n",
       "      <td>0.0</td>\n",
       "    </tr>\n",
       "    <tr>\n",
       "      <th>1</th>\n",
       "      <td>0.583333</td>\n",
       "      <td>0.111859</td>\n",
       "      <td>1.0</td>\n",
       "      <td>0.725275</td>\n",
       "      <td>0.0</td>\n",
       "      <td>0.682540</td>\n",
       "      <td>0.829762</td>\n",
       "      <td>0.00</td>\n",
       "      <td>0.000000</td>\n",
       "      <td>0.0</td>\n",
       "    </tr>\n",
       "    <tr>\n",
       "      <th>2</th>\n",
       "      <td>0.222222</td>\n",
       "      <td>0.298570</td>\n",
       "      <td>0.4</td>\n",
       "      <td>0.472527</td>\n",
       "      <td>0.0</td>\n",
       "      <td>0.507937</td>\n",
       "      <td>0.928571</td>\n",
       "      <td>0.00</td>\n",
       "      <td>0.000000</td>\n",
       "      <td>0.0</td>\n",
       "    </tr>\n",
       "    <tr>\n",
       "      <th>3</th>\n",
       "      <td>0.555556</td>\n",
       "      <td>0.104289</td>\n",
       "      <td>1.0</td>\n",
       "      <td>0.439560</td>\n",
       "      <td>1.0</td>\n",
       "      <td>0.682540</td>\n",
       "      <td>0.753571</td>\n",
       "      <td>0.00</td>\n",
       "      <td>0.763158</td>\n",
       "      <td>0.0</td>\n",
       "    </tr>\n",
       "    <tr>\n",
       "      <th>4</th>\n",
       "      <td>0.555556</td>\n",
       "      <td>0.095038</td>\n",
       "      <td>1.0</td>\n",
       "      <td>0.813187</td>\n",
       "      <td>0.0</td>\n",
       "      <td>0.666667</td>\n",
       "      <td>0.810714</td>\n",
       "      <td>0.00</td>\n",
       "      <td>0.000000</td>\n",
       "      <td>0.0</td>\n",
       "    </tr>\n",
       "  </tbody>\n",
       "</table>\n",
       "</div>"
      ],
      "text/plain": [
       "   interest_rate  unpaid_principal_bal  loan_term  loan_to_value  \\\n",
       "0       0.444444              0.170732        1.0       0.978022   \n",
       "1       0.583333              0.111859        1.0       0.725275   \n",
       "2       0.222222              0.298570        0.4       0.472527   \n",
       "3       0.555556              0.104289        1.0       0.439560   \n",
       "4       0.555556              0.095038        1.0       0.813187   \n",
       "\n",
       "   number_of_borrowers  debt_to_income_ratio  borrower_credit_score  \\\n",
       "0                  0.0              0.333333               0.826190   \n",
       "1                  0.0              0.682540               0.829762   \n",
       "2                  0.0              0.507937               0.928571   \n",
       "3                  1.0              0.682540               0.753571   \n",
       "4                  0.0              0.666667               0.810714   \n",
       "\n",
       "   insurance_percent  co-borrower_credit_score  insurance_type  \n",
       "0               0.75                  0.000000             0.0  \n",
       "1               0.00                  0.000000             0.0  \n",
       "2               0.00                  0.000000             0.0  \n",
       "3               0.00                  0.763158             0.0  \n",
       "4               0.00                  0.000000             0.0  "
      ]
     },
     "execution_count": 149,
     "metadata": {},
     "output_type": "execute_result"
    }
   ],
   "source": [
    "X.head(5)"
   ]
  },
  {
   "cell_type": "code",
   "execution_count": 150,
   "metadata": {},
   "outputs": [
    {
     "data": {
      "text/plain": [
       "['interest_rate',\n",
       " 'unpaid_principal_bal',\n",
       " 'loan_term',\n",
       " 'loan_to_value',\n",
       " 'number_of_borrowers',\n",
       " 'debt_to_income_ratio',\n",
       " 'borrower_credit_score',\n",
       " 'insurance_percent',\n",
       " 'co-borrower_credit_score',\n",
       " 'insurance_type']"
      ]
     },
     "execution_count": 150,
     "metadata": {},
     "output_type": "execute_result"
    }
   ],
   "source": [
    "model_columns"
   ]
  },
  {
   "cell_type": "markdown",
   "metadata": {},
   "source": [
    "#### Test Train Split"
   ]
  },
  {
   "cell_type": "code",
   "execution_count": 151,
   "metadata": {},
   "outputs": [],
   "source": [
    "from sklearn.model_selection import train_test_split\n",
    "X_train, X_test, y_train, y_test = train_test_split(X, y, test_size = 0.25, random_state = 0)"
   ]
  },
  {
   "cell_type": "code",
   "execution_count": 152,
   "metadata": {},
   "outputs": [
    {
     "data": {
      "text/html": [
       "<div>\n",
       "<style scoped>\n",
       "    .dataframe tbody tr th:only-of-type {\n",
       "        vertical-align: middle;\n",
       "    }\n",
       "\n",
       "    .dataframe tbody tr th {\n",
       "        vertical-align: top;\n",
       "    }\n",
       "\n",
       "    .dataframe thead th {\n",
       "        text-align: right;\n",
       "    }\n",
       "</style>\n",
       "<table border=\"1\" class=\"dataframe\">\n",
       "  <thead>\n",
       "    <tr style=\"text-align: right;\">\n",
       "      <th></th>\n",
       "      <th>interest_rate</th>\n",
       "      <th>unpaid_principal_bal</th>\n",
       "      <th>loan_term</th>\n",
       "      <th>loan_to_value</th>\n",
       "      <th>number_of_borrowers</th>\n",
       "      <th>debt_to_income_ratio</th>\n",
       "      <th>borrower_credit_score</th>\n",
       "      <th>insurance_percent</th>\n",
       "      <th>co-borrower_credit_score</th>\n",
       "      <th>insurance_type</th>\n",
       "    </tr>\n",
       "  </thead>\n",
       "  <tbody>\n",
       "    <tr>\n",
       "      <th>count</th>\n",
       "      <td>87043.000000</td>\n",
       "      <td>87043.000000</td>\n",
       "      <td>87043.000000</td>\n",
       "      <td>87043.000000</td>\n",
       "      <td>87043.000000</td>\n",
       "      <td>87043.000000</td>\n",
       "      <td>87043.000000</td>\n",
       "      <td>87043.000000</td>\n",
       "      <td>87043.000000</td>\n",
       "      <td>87043.000000</td>\n",
       "    </tr>\n",
       "    <tr>\n",
       "      <th>mean</th>\n",
       "      <td>0.359752</td>\n",
       "      <td>0.166038</td>\n",
       "      <td>0.774007</td>\n",
       "      <td>0.675199</td>\n",
       "      <td>0.593270</td>\n",
       "      <td>0.472236</td>\n",
       "      <td>0.916595</td>\n",
       "      <td>0.070061</td>\n",
       "      <td>0.549903</td>\n",
       "      <td>0.003205</td>\n",
       "    </tr>\n",
       "    <tr>\n",
       "      <th>std</th>\n",
       "      <td>0.102600</td>\n",
       "      <td>0.096538</td>\n",
       "      <td>0.299299</td>\n",
       "      <td>0.190163</td>\n",
       "      <td>0.491227</td>\n",
       "      <td>0.154477</td>\n",
       "      <td>0.049999</td>\n",
       "      <td>0.203064</td>\n",
       "      <td>0.456871</td>\n",
       "      <td>0.056525</td>\n",
       "    </tr>\n",
       "    <tr>\n",
       "      <th>min</th>\n",
       "      <td>0.000000</td>\n",
       "      <td>0.000000</td>\n",
       "      <td>0.000000</td>\n",
       "      <td>0.000000</td>\n",
       "      <td>0.000000</td>\n",
       "      <td>0.000000</td>\n",
       "      <td>0.000000</td>\n",
       "      <td>0.000000</td>\n",
       "      <td>0.000000</td>\n",
       "      <td>0.000000</td>\n",
       "    </tr>\n",
       "    <tr>\n",
       "      <th>25%</th>\n",
       "      <td>0.277778</td>\n",
       "      <td>0.091674</td>\n",
       "      <td>0.400000</td>\n",
       "      <td>0.560440</td>\n",
       "      <td>0.000000</td>\n",
       "      <td>0.349206</td>\n",
       "      <td>0.894048</td>\n",
       "      <td>0.000000</td>\n",
       "      <td>0.000000</td>\n",
       "      <td>0.000000</td>\n",
       "    </tr>\n",
       "    <tr>\n",
       "      <th>50%</th>\n",
       "      <td>0.361111</td>\n",
       "      <td>0.144659</td>\n",
       "      <td>1.000000</td>\n",
       "      <td>0.725275</td>\n",
       "      <td>1.000000</td>\n",
       "      <td>0.476190</td>\n",
       "      <td>0.929762</td>\n",
       "      <td>0.000000</td>\n",
       "      <td>0.885167</td>\n",
       "      <td>0.000000</td>\n",
       "    </tr>\n",
       "    <tr>\n",
       "      <th>75%</th>\n",
       "      <td>0.416667</td>\n",
       "      <td>0.224558</td>\n",
       "      <td>1.000000</td>\n",
       "      <td>0.813187</td>\n",
       "      <td>1.000000</td>\n",
       "      <td>0.603175</td>\n",
       "      <td>0.951190</td>\n",
       "      <td>0.000000</td>\n",
       "      <td>0.946172</td>\n",
       "      <td>0.000000</td>\n",
       "    </tr>\n",
       "    <tr>\n",
       "      <th>max</th>\n",
       "      <td>0.972222</td>\n",
       "      <td>1.000000</td>\n",
       "      <td>1.000000</td>\n",
       "      <td>1.000000</td>\n",
       "      <td>1.000000</td>\n",
       "      <td>0.952381</td>\n",
       "      <td>1.000000</td>\n",
       "      <td>1.000000</td>\n",
       "      <td>1.000000</td>\n",
       "      <td>1.000000</td>\n",
       "    </tr>\n",
       "  </tbody>\n",
       "</table>\n",
       "</div>"
      ],
      "text/plain": [
       "       interest_rate  unpaid_principal_bal     loan_term  loan_to_value  \\\n",
       "count   87043.000000          87043.000000  87043.000000   87043.000000   \n",
       "mean        0.359752              0.166038      0.774007       0.675199   \n",
       "std         0.102600              0.096538      0.299299       0.190163   \n",
       "min         0.000000              0.000000      0.000000       0.000000   \n",
       "25%         0.277778              0.091674      0.400000       0.560440   \n",
       "50%         0.361111              0.144659      1.000000       0.725275   \n",
       "75%         0.416667              0.224558      1.000000       0.813187   \n",
       "max         0.972222              1.000000      1.000000       1.000000   \n",
       "\n",
       "       number_of_borrowers  debt_to_income_ratio  borrower_credit_score  \\\n",
       "count         87043.000000          87043.000000           87043.000000   \n",
       "mean              0.593270              0.472236               0.916595   \n",
       "std               0.491227              0.154477               0.049999   \n",
       "min               0.000000              0.000000               0.000000   \n",
       "25%               0.000000              0.349206               0.894048   \n",
       "50%               1.000000              0.476190               0.929762   \n",
       "75%               1.000000              0.603175               0.951190   \n",
       "max               1.000000              0.952381               1.000000   \n",
       "\n",
       "       insurance_percent  co-borrower_credit_score  insurance_type  \n",
       "count       87043.000000              87043.000000    87043.000000  \n",
       "mean            0.070061                  0.549903        0.003205  \n",
       "std             0.203064                  0.456871        0.056525  \n",
       "min             0.000000                  0.000000        0.000000  \n",
       "25%             0.000000                  0.000000        0.000000  \n",
       "50%             0.000000                  0.885167        0.000000  \n",
       "75%             0.000000                  0.946172        0.000000  \n",
       "max             1.000000                  1.000000        1.000000  "
      ]
     },
     "execution_count": 152,
     "metadata": {},
     "output_type": "execute_result"
    }
   ],
   "source": [
    "X_train.describe()"
   ]
  },
  {
   "cell_type": "markdown",
   "metadata": {},
   "source": [
    "## Training the Model(s)"
   ]
  },
  {
   "cell_type": "markdown",
   "metadata": {},
   "source": [
    "#### XgBoost"
   ]
  },
  {
   "cell_type": "code",
   "execution_count": 153,
   "metadata": {},
   "outputs": [
    {
     "name": "stderr",
     "output_type": "stream",
     "text": [
      "C:\\ProgramData\\Anaconda3\\lib\\site-packages\\sklearn\\preprocessing\\_label.py:235: DataConversionWarning: A column-vector y was passed when a 1d array was expected. Please change the shape of y to (n_samples, ), for example using ravel().\n",
      "  y = column_or_1d(y, warn=True)\n",
      "C:\\ProgramData\\Anaconda3\\lib\\site-packages\\sklearn\\preprocessing\\_label.py:268: DataConversionWarning: A column-vector y was passed when a 1d array was expected. Please change the shape of y to (n_samples, ), for example using ravel().\n",
      "  y = column_or_1d(y, warn=True)\n"
     ]
    },
    {
     "data": {
      "text/plain": [
       "XGBClassifier(base_score=0.5, booster='gbtree', colsample_bylevel=1,\n",
       "              colsample_bynode=1, colsample_bytree=0.4, gamma=1,\n",
       "              learning_rate=0.01, max_delta_step=0, max_depth=4,\n",
       "              min_child_weight=1, missing=None, n_estimators=100, n_jobs=1,\n",
       "              nthread=None, objective='binary:logistic', random_state=0,\n",
       "              reg_alpha=0.3, reg_lambda=1, scale_pos_weight=1, seed=None,\n",
       "              silent=False, subsample=0.8, verbosity=1)"
      ]
     },
     "execution_count": 153,
     "metadata": {},
     "output_type": "execute_result"
    }
   ],
   "source": [
    "classifier_xgboost = xgb.XGBClassifier(silent=False, \n",
    "                      scale_pos_weight=1,\n",
    "                      learning_rate=0.01,  \n",
    "                      colsample_bytree = 0.4,\n",
    "                      subsample = 0.8,\n",
    "                      objective='binary:logistic', \n",
    "                      n_estimators=100, \n",
    "                      reg_alpha = 0.3,\n",
    "                      max_depth=4, \n",
    "                      gamma=1)\n",
    "classifier_xgboost.fit(X_train, y_train)"
   ]
  },
  {
   "cell_type": "code",
   "execution_count": 154,
   "metadata": {},
   "outputs": [
    {
     "name": "stdout",
     "output_type": "stream",
     "text": [
      "Model Dumped!!!!!!\n"
     ]
    }
   ],
   "source": [
    "from sklearn.externals import joblib\n",
    "joblib.dump(classifier_xgboost,'classification_model.pkl')\n",
    "print('Model Dumped!!!!!!')"
   ]
  },
  {
   "cell_type": "code",
   "execution_count": 156,
   "metadata": {},
   "outputs": [
    {
     "name": "stdout",
     "output_type": "stream",
     "text": [
      "Models columns dumped!\n"
     ]
    }
   ],
   "source": [
    "joblib.load('classification_model.pkl')\n",
    "\n",
    "joblib.dump(model_columns, 'model_columns.pkl')\n",
    "print(\"Models columns dumped!\")"
   ]
  },
  {
   "cell_type": "code",
   "execution_count": 157,
   "metadata": {},
   "outputs": [
    {
     "ename": "ValueError",
     "evalue": "feature_names mismatch: ['interest_rate', 'unpaid_principal_bal', 'loan_term', 'loan_to_value', 'number_of_borrowers', 'debt_to_income_ratio', 'borrower_credit_score', 'insurance_percent', 'co-borrower_credit_score', 'insurance_type'] ['f0', 'f1', 'f2', 'f3', 'f4', 'f5', 'f6', 'f7']\nexpected debt_to_income_ratio, co-borrower_credit_score, number_of_borrowers, borrower_credit_score, unpaid_principal_bal, insurance_type, loan_to_value, loan_term, insurance_percent, interest_rate in input data\ntraining data did not have the following fields: f3, f4, f6, f0, f1, f7, f2, f5",
     "output_type": "error",
     "traceback": [
      "\u001b[1;31m---------------------------------------------------------------------------\u001b[0m",
      "\u001b[1;31mValueError\u001b[0m                                Traceback (most recent call last)",
      "\u001b[1;32m<ipython-input-157-513f80f28eb4>\u001b[0m in \u001b[0;36m<module>\u001b[1;34m\u001b[0m\n\u001b[1;32m----> 1\u001b[1;33m \u001b[0mclassifier_xgboost\u001b[0m\u001b[1;33m.\u001b[0m\u001b[0mpredict\u001b[0m\u001b[1;33m(\u001b[0m\u001b[1;33m[\u001b[0m\u001b[1;36m0\u001b[0m\u001b[1;33m,\u001b[0m\u001b[1;36m0\u001b[0m\u001b[1;33m,\u001b[0m\u001b[1;36m0\u001b[0m\u001b[1;33m,\u001b[0m\u001b[1;36m0\u001b[0m\u001b[1;33m,\u001b[0m\u001b[1;36m0\u001b[0m\u001b[1;33m,\u001b[0m\u001b[1;36m0\u001b[0m\u001b[1;33m,\u001b[0m\u001b[1;36m0\u001b[0m\u001b[1;33m,\u001b[0m\u001b[1;36m0\u001b[0m\u001b[1;33m]\u001b[0m\u001b[1;33m)\u001b[0m\u001b[1;33m\u001b[0m\u001b[1;33m\u001b[0m\u001b[0m\n\u001b[0m",
      "\u001b[1;32mC:\\ProgramData\\Anaconda3\\lib\\site-packages\\xgboost\\sklearn.py\u001b[0m in \u001b[0;36mpredict\u001b[1;34m(self, data, output_margin, ntree_limit, validate_features)\u001b[0m\n\u001b[0;32m    789\u001b[0m                                                  \u001b[0moutput_margin\u001b[0m\u001b[1;33m=\u001b[0m\u001b[0moutput_margin\u001b[0m\u001b[1;33m,\u001b[0m\u001b[1;33m\u001b[0m\u001b[1;33m\u001b[0m\u001b[0m\n\u001b[0;32m    790\u001b[0m                                                  \u001b[0mntree_limit\u001b[0m\u001b[1;33m=\u001b[0m\u001b[0mntree_limit\u001b[0m\u001b[1;33m,\u001b[0m\u001b[1;33m\u001b[0m\u001b[1;33m\u001b[0m\u001b[0m\n\u001b[1;32m--> 791\u001b[1;33m                                                  validate_features=validate_features)\n\u001b[0m\u001b[0;32m    792\u001b[0m         \u001b[1;32mif\u001b[0m \u001b[0moutput_margin\u001b[0m\u001b[1;33m:\u001b[0m\u001b[1;33m\u001b[0m\u001b[1;33m\u001b[0m\u001b[0m\n\u001b[0;32m    793\u001b[0m             \u001b[1;31m# If output_margin is active, simply return the scores\u001b[0m\u001b[1;33m\u001b[0m\u001b[1;33m\u001b[0m\u001b[1;33m\u001b[0m\u001b[0m\n",
      "\u001b[1;32mC:\\ProgramData\\Anaconda3\\lib\\site-packages\\xgboost\\core.py\u001b[0m in \u001b[0;36mpredict\u001b[1;34m(self, data, output_margin, ntree_limit, pred_leaf, pred_contribs, approx_contribs, pred_interactions, validate_features)\u001b[0m\n\u001b[0;32m   1282\u001b[0m \u001b[1;33m\u001b[0m\u001b[0m\n\u001b[0;32m   1283\u001b[0m         \u001b[1;32mif\u001b[0m \u001b[0mvalidate_features\u001b[0m\u001b[1;33m:\u001b[0m\u001b[1;33m\u001b[0m\u001b[1;33m\u001b[0m\u001b[0m\n\u001b[1;32m-> 1284\u001b[1;33m             \u001b[0mself\u001b[0m\u001b[1;33m.\u001b[0m\u001b[0m_validate_features\u001b[0m\u001b[1;33m(\u001b[0m\u001b[0mdata\u001b[0m\u001b[1;33m)\u001b[0m\u001b[1;33m\u001b[0m\u001b[1;33m\u001b[0m\u001b[0m\n\u001b[0m\u001b[0;32m   1285\u001b[0m \u001b[1;33m\u001b[0m\u001b[0m\n\u001b[0;32m   1286\u001b[0m         \u001b[0mlength\u001b[0m \u001b[1;33m=\u001b[0m \u001b[0mc_bst_ulong\u001b[0m\u001b[1;33m(\u001b[0m\u001b[1;33m)\u001b[0m\u001b[1;33m\u001b[0m\u001b[1;33m\u001b[0m\u001b[0m\n",
      "\u001b[1;32mC:\\ProgramData\\Anaconda3\\lib\\site-packages\\xgboost\\core.py\u001b[0m in \u001b[0;36m_validate_features\u001b[1;34m(self, data)\u001b[0m\n\u001b[0;32m   1688\u001b[0m \u001b[1;33m\u001b[0m\u001b[0m\n\u001b[0;32m   1689\u001b[0m                 raise ValueError(msg.format(self.feature_names,\n\u001b[1;32m-> 1690\u001b[1;33m                                             data.feature_names))\n\u001b[0m\u001b[0;32m   1691\u001b[0m \u001b[1;33m\u001b[0m\u001b[0m\n\u001b[0;32m   1692\u001b[0m     \u001b[1;32mdef\u001b[0m \u001b[0mget_split_value_histogram\u001b[0m\u001b[1;33m(\u001b[0m\u001b[0mself\u001b[0m\u001b[1;33m,\u001b[0m \u001b[0mfeature\u001b[0m\u001b[1;33m,\u001b[0m \u001b[0mfmap\u001b[0m\u001b[1;33m=\u001b[0m\u001b[1;34m''\u001b[0m\u001b[1;33m,\u001b[0m \u001b[0mbins\u001b[0m\u001b[1;33m=\u001b[0m\u001b[1;32mNone\u001b[0m\u001b[1;33m,\u001b[0m \u001b[0mas_pandas\u001b[0m\u001b[1;33m=\u001b[0m\u001b[1;32mTrue\u001b[0m\u001b[1;33m)\u001b[0m\u001b[1;33m:\u001b[0m\u001b[1;33m\u001b[0m\u001b[1;33m\u001b[0m\u001b[0m\n",
      "\u001b[1;31mValueError\u001b[0m: feature_names mismatch: ['interest_rate', 'unpaid_principal_bal', 'loan_term', 'loan_to_value', 'number_of_borrowers', 'debt_to_income_ratio', 'borrower_credit_score', 'insurance_percent', 'co-borrower_credit_score', 'insurance_type'] ['f0', 'f1', 'f2', 'f3', 'f4', 'f5', 'f6', 'f7']\nexpected debt_to_income_ratio, co-borrower_credit_score, number_of_borrowers, borrower_credit_score, unpaid_principal_bal, insurance_type, loan_to_value, loan_term, insurance_percent, interest_rate in input data\ntraining data did not have the following fields: f3, f4, f6, f0, f1, f7, f2, f5"
     ]
    }
   ],
   "source": [
    "classifier_xgboost.predict([0,0,0,0,0,0,0,0])"
   ]
  },
  {
   "cell_type": "code",
   "execution_count": 130,
   "metadata": {},
   "outputs": [
    {
     "data": {
      "text/plain": [
       "pandas.core.frame.DataFrame"
      ]
     },
     "execution_count": 130,
     "metadata": {},
     "output_type": "execute_result"
    }
   ],
   "source": [
    "type(X_test)"
   ]
  },
  {
   "cell_type": "code",
   "execution_count": 132,
   "metadata": {},
   "outputs": [
    {
     "data": {
      "text/html": [
       "<div>\n",
       "<style scoped>\n",
       "    .dataframe tbody tr th:only-of-type {\n",
       "        vertical-align: middle;\n",
       "    }\n",
       "\n",
       "    .dataframe tbody tr th {\n",
       "        vertical-align: top;\n",
       "    }\n",
       "\n",
       "    .dataframe thead th {\n",
       "        text-align: right;\n",
       "    }\n",
       "</style>\n",
       "<table border=\"1\" class=\"dataframe\">\n",
       "  <thead>\n",
       "    <tr style=\"text-align: right;\">\n",
       "      <th></th>\n",
       "      <th>0</th>\n",
       "      <th>1</th>\n",
       "      <th>2</th>\n",
       "      <th>3</th>\n",
       "      <th>4</th>\n",
       "      <th>5</th>\n",
       "      <th>6</th>\n",
       "      <th>7</th>\n",
       "      <th>8</th>\n",
       "      <th>9</th>\n",
       "    </tr>\n",
       "  </thead>\n",
       "  <tbody>\n",
       "    <tr>\n",
       "      <th>44444</th>\n",
       "      <td>0.222222</td>\n",
       "      <td>0.228764</td>\n",
       "      <td>0.4</td>\n",
       "      <td>0.439560</td>\n",
       "      <td>1.0</td>\n",
       "      <td>0.523810</td>\n",
       "      <td>0.940476</td>\n",
       "      <td>0.0</td>\n",
       "      <td>0.915072</td>\n",
       "      <td>0.0</td>\n",
       "    </tr>\n",
       "    <tr>\n",
       "      <th>34145</th>\n",
       "      <td>0.386667</td>\n",
       "      <td>0.313709</td>\n",
       "      <td>1.0</td>\n",
       "      <td>0.813187</td>\n",
       "      <td>0.0</td>\n",
       "      <td>0.365079</td>\n",
       "      <td>0.963095</td>\n",
       "      <td>0.0</td>\n",
       "      <td>0.000000</td>\n",
       "      <td>0.0</td>\n",
       "    </tr>\n",
       "    <tr>\n",
       "      <th>72049</th>\n",
       "      <td>0.305556</td>\n",
       "      <td>0.216148</td>\n",
       "      <td>1.0</td>\n",
       "      <td>0.351648</td>\n",
       "      <td>1.0</td>\n",
       "      <td>0.666667</td>\n",
       "      <td>0.833333</td>\n",
       "      <td>0.0</td>\n",
       "      <td>0.913876</td>\n",
       "      <td>0.0</td>\n",
       "    </tr>\n",
       "    <tr>\n",
       "      <th>73877</th>\n",
       "      <td>0.166667</td>\n",
       "      <td>0.020185</td>\n",
       "      <td>0.4</td>\n",
       "      <td>0.362637</td>\n",
       "      <td>0.0</td>\n",
       "      <td>0.619048</td>\n",
       "      <td>0.933333</td>\n",
       "      <td>0.0</td>\n",
       "      <td>0.000000</td>\n",
       "      <td>0.0</td>\n",
       "    </tr>\n",
       "    <tr>\n",
       "      <th>80026</th>\n",
       "      <td>0.500000</td>\n",
       "      <td>0.037847</td>\n",
       "      <td>1.0</td>\n",
       "      <td>0.417582</td>\n",
       "      <td>0.0</td>\n",
       "      <td>0.523810</td>\n",
       "      <td>0.967857</td>\n",
       "      <td>0.0</td>\n",
       "      <td>0.000000</td>\n",
       "      <td>0.0</td>\n",
       "    </tr>\n",
       "    <tr>\n",
       "      <th>...</th>\n",
       "      <td>...</td>\n",
       "      <td>...</td>\n",
       "      <td>...</td>\n",
       "      <td>...</td>\n",
       "      <td>...</td>\n",
       "      <td>...</td>\n",
       "      <td>...</td>\n",
       "      <td>...</td>\n",
       "      <td>...</td>\n",
       "      <td>...</td>\n",
       "    </tr>\n",
       "    <tr>\n",
       "      <th>64065</th>\n",
       "      <td>0.166667</td>\n",
       "      <td>0.247267</td>\n",
       "      <td>0.4</td>\n",
       "      <td>0.439560</td>\n",
       "      <td>1.0</td>\n",
       "      <td>0.650794</td>\n",
       "      <td>0.961905</td>\n",
       "      <td>0.0</td>\n",
       "      <td>0.966507</td>\n",
       "      <td>0.0</td>\n",
       "    </tr>\n",
       "    <tr>\n",
       "      <th>95623</th>\n",
       "      <td>0.500000</td>\n",
       "      <td>0.066442</td>\n",
       "      <td>1.0</td>\n",
       "      <td>0.758242</td>\n",
       "      <td>0.0</td>\n",
       "      <td>0.682540</td>\n",
       "      <td>0.965476</td>\n",
       "      <td>0.0</td>\n",
       "      <td>0.000000</td>\n",
       "      <td>0.0</td>\n",
       "    </tr>\n",
       "    <tr>\n",
       "      <th>60085</th>\n",
       "      <td>0.555556</td>\n",
       "      <td>0.055509</td>\n",
       "      <td>1.0</td>\n",
       "      <td>0.758242</td>\n",
       "      <td>0.0</td>\n",
       "      <td>0.619048</td>\n",
       "      <td>0.877381</td>\n",
       "      <td>0.0</td>\n",
       "      <td>0.000000</td>\n",
       "      <td>0.0</td>\n",
       "    </tr>\n",
       "    <tr>\n",
       "      <th>104257</th>\n",
       "      <td>0.500000</td>\n",
       "      <td>0.096720</td>\n",
       "      <td>1.0</td>\n",
       "      <td>0.813187</td>\n",
       "      <td>1.0</td>\n",
       "      <td>0.619048</td>\n",
       "      <td>0.817857</td>\n",
       "      <td>0.0</td>\n",
       "      <td>0.802632</td>\n",
       "      <td>0.0</td>\n",
       "    </tr>\n",
       "    <tr>\n",
       "      <th>115014</th>\n",
       "      <td>0.388889</td>\n",
       "      <td>0.100084</td>\n",
       "      <td>1.0</td>\n",
       "      <td>0.813187</td>\n",
       "      <td>1.0</td>\n",
       "      <td>0.396825</td>\n",
       "      <td>0.969048</td>\n",
       "      <td>0.0</td>\n",
       "      <td>0.965311</td>\n",
       "      <td>0.0</td>\n",
       "    </tr>\n",
       "  </tbody>\n",
       "</table>\n",
       "<p>29015 rows × 10 columns</p>\n",
       "</div>"
      ],
      "text/plain": [
       "               0         1    2         3    4         5         6    7  \\\n",
       "44444   0.222222  0.228764  0.4  0.439560  1.0  0.523810  0.940476  0.0   \n",
       "34145   0.386667  0.313709  1.0  0.813187  0.0  0.365079  0.963095  0.0   \n",
       "72049   0.305556  0.216148  1.0  0.351648  1.0  0.666667  0.833333  0.0   \n",
       "73877   0.166667  0.020185  0.4  0.362637  0.0  0.619048  0.933333  0.0   \n",
       "80026   0.500000  0.037847  1.0  0.417582  0.0  0.523810  0.967857  0.0   \n",
       "...          ...       ...  ...       ...  ...       ...       ...  ...   \n",
       "64065   0.166667  0.247267  0.4  0.439560  1.0  0.650794  0.961905  0.0   \n",
       "95623   0.500000  0.066442  1.0  0.758242  0.0  0.682540  0.965476  0.0   \n",
       "60085   0.555556  0.055509  1.0  0.758242  0.0  0.619048  0.877381  0.0   \n",
       "104257  0.500000  0.096720  1.0  0.813187  1.0  0.619048  0.817857  0.0   \n",
       "115014  0.388889  0.100084  1.0  0.813187  1.0  0.396825  0.969048  0.0   \n",
       "\n",
       "               8    9  \n",
       "44444   0.915072  0.0  \n",
       "34145   0.000000  0.0  \n",
       "72049   0.913876  0.0  \n",
       "73877   0.000000  0.0  \n",
       "80026   0.000000  0.0  \n",
       "...          ...  ...  \n",
       "64065   0.966507  0.0  \n",
       "95623   0.000000  0.0  \n",
       "60085   0.000000  0.0  \n",
       "104257  0.802632  0.0  \n",
       "115014  0.965311  0.0  \n",
       "\n",
       "[29015 rows x 10 columns]"
      ]
     },
     "execution_count": 132,
     "metadata": {},
     "output_type": "execute_result"
    }
   ],
   "source": [
    "X_test"
   ]
  },
  {
   "cell_type": "code",
   "execution_count": null,
   "metadata": {},
   "outputs": [],
   "source": []
  },
  {
   "cell_type": "markdown",
   "metadata": {},
   "source": []
  }
 ],
 "metadata": {
  "kernelspec": {
   "display_name": "Python 3",
   "language": "python",
   "name": "python3"
  },
  "language_info": {
   "codemirror_mode": {
    "name": "ipython",
    "version": 3
   },
   "file_extension": ".py",
   "mimetype": "text/x-python",
   "name": "python",
   "nbconvert_exporter": "python",
   "pygments_lexer": "ipython3",
   "version": "3.7.4"
  }
 },
 "nbformat": 4,
 "nbformat_minor": 2
}
